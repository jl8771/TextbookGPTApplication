{
 "cells": [
  {
   "cell_type": "code",
   "execution_count": 1,
   "metadata": {},
   "outputs": [
    {
     "name": "stdout",
     "output_type": "stream",
     "text": [
      "Chat session with assistant initialized.\n"
     ]
    }
   ],
   "source": [
    "from chat import ChatSession\n",
    "session = ChatSession()"
   ]
  },
  {
   "cell_type": "code",
   "execution_count": 2,
   "metadata": {},
   "outputs": [
    {
     "name": "stdout",
     "output_type": "stream",
     "text": [
      "Extracted text from textbook with tool.\n",
      "A quantum well is a potential well with finite potential barriers that confines particles, such as electrons, to a specific region in space. This confinement leads to quantized energy levels within the well, similar to the quantization of standing elastic waves between rigid walls. The potential well is characterized by a potential \\( V(z) \\) that is zero within the well and \\( V_b \\) outside the well, where \\( V_b \\) is the height of the potential barriers and \\( L \\) is the width of the well. Particles are confined in the well if their energy is less than \\( V_b \\). The wave function solutions inside and outside the well are combinations of sine, cosine, and exponential functions, reflecting the quantum mechanical nature of the system (ELEC 4704 - Introduction to Nanoelectronics, Page 59).\n",
      "\n",
      "Quantum wells are used in various nanostructure devices, such as quantum well lasers, where they provide quantum confinement of carriers and optical confinement. This confinement results in the accumulation of carriers in a narrow active region, enhancing the device's performance by lowering threshold currents and increasing gain coefficients (ELEC 4704 - Introduction to Nanoelectronics, Page 313).\n"
     ]
    }
   ],
   "source": [
    "print(session.start_chat(\"what is a quantum well?\"))"
   ]
  },
  {
   "cell_type": "code",
   "execution_count": 3,
   "metadata": {},
   "outputs": [
    {
     "name": "stdout",
     "output_type": "stream",
     "text": [
      "Summarized page with tool.\n",
      "Summarized page with tool.\n",
      "**ELEC 4704 - Introduction to Nanoelectronics, Page 59:**\n",
      "\n",
      "This page explains the concept of a quantum well with finite potential barriers. It describes how particles are confined within a potential well, leading to quantized energy levels. The potential well is defined by a potential \\( V(z) \\) that is zero inside the well and \\( V_b \\) outside, with \\( V_b \\) being the height of the barriers and \\( L \\) the width of the well. The page details the mathematical formulation of the wave functions inside and outside the well, which are combinations of sine, cosine, and exponential functions, reflecting the quantum mechanical nature of the system.\n",
      "\n",
      "**ELEC 4704 - Introduction to Nanoelectronics, Page 313:**\n",
      "\n",
      "This page discusses the potential of nanoelectronics to overcome the scaling limits of traditional semiconductor technologies. It highlights the significance of quantum mechanical effects, such as tunneling and quantum confinement, at the nanoscale. These effects are crucial in designing novel electronic components like single-electron transistors and quantum dots. The text emphasizes the potential for increased efficiency and performance gains in electronic circuits through these advancements.\n"
     ]
    }
   ],
   "source": [
    "print(session.continue_chat(\"Summarize those pages for me.\"))"
   ]
  },
  {
   "cell_type": "code",
   "execution_count": 4,
   "metadata": {},
   "outputs": [
    {
     "name": "stdout",
     "output_type": "stream",
     "text": [
      "Checked if page is blank or non-informative with tool.\n",
      "Checked if page is blank or non-informative with tool.\n",
      "Categorized page category Blank\n",
      "Categorized page category Blank\n",
      "Both pages, 59 and 313 from \"ELEC 4704 - Introduction to Nanoelectronics,\" are marked as blank and not useful.\n"
     ]
    }
   ],
   "source": [
    "print(session.continue_chat(\"Are those pages useful?\"))"
   ]
  },
  {
   "cell_type": "code",
   "execution_count": 5,
   "metadata": {},
   "outputs": [
    {
     "name": "stdout",
     "output_type": "stream",
     "text": [
      "Chat session cleared.\n",
      "None\n"
     ]
    }
   ],
   "source": [
    "print(session.clear_chat())"
   ]
  }
 ],
 "metadata": {
  "kernelspec": {
   "display_name": "venv",
   "language": "python",
   "name": "python3"
  },
  "language_info": {
   "codemirror_mode": {
    "name": "ipython",
    "version": 3
   },
   "file_extension": ".py",
   "mimetype": "text/x-python",
   "name": "python",
   "nbconvert_exporter": "python",
   "pygments_lexer": "ipython3",
   "version": "3.10.11"
  }
 },
 "nbformat": 4,
 "nbformat_minor": 2
}
