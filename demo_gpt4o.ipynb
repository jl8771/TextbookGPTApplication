{
 "cells": [
  {
   "cell_type": "code",
   "execution_count": 1,
   "metadata": {},
   "outputs": [
    {
     "name": "stdout",
     "output_type": "stream",
     "text": [
      "Setting model provider to: openai\n",
      "Chat session with assistant initialized using model: OpenAI GPT-4o\n"
     ]
    }
   ],
   "source": [
    "import warnings\n",
    "from tqdm import TqdmWarning\n",
    "warnings.filterwarnings(\"ignore\", category=TqdmWarning)\n",
    "\n",
    "from chat import ChatSession\n",
    "session = ChatSession(\"openai\")"
   ]
  },
  {
   "cell_type": "code",
   "execution_count": 2,
   "metadata": {},
   "outputs": [
    {
     "name": "stdout",
     "output_type": "stream",
     "text": [
      "Found text with semantic search. Proceeding to reranking...\n",
      "A microstrip antenna, also known as a patch antenna, consists of a thin dielectric substrate covered on one side by a thin layer of conducting material (ground plane) and on the other side by a patch of conducting material. The properties of a microstrip antenna are determined by the shape and dimensions of the metallic patch, as well as the dielectric properties of the substrate used. The patch acts as a resonator, and its dimensions must be multiples of the effective dielectric wavelength. Common patch shapes include rectangular, circular, and triangular.\n",
      "\n",
      "Microstrip antennas are typically fed by a coaxial cable or a microstrip line, and they can also be fed via electromagnetic coupling. This design allows for a compact and cost-effective solution, making microstrip antennas popular in wireless applications. However, they have limitations such as low bandwidth and efficiency.\n",
      "\n",
      "For more detailed information, you can refer to \"SYSC 4607 - Wireless Communications 2e.pdf,\" pages 227-228.\n"
     ]
    }
   ],
   "source": [
    "print(session.start_chat(\"What is a microstrip antenna?\"))"
   ]
  },
  {
   "cell_type": "code",
   "execution_count": 3,
   "metadata": {},
   "outputs": [
    {
     "name": "stdout",
     "output_type": "stream",
     "text": [
      "Found text with semantic search. Proceeding to reranking...\n",
      "Found text with semantic search. Proceeding to reranking...\n",
      "A **horn antenna** is a type of antenna that consists of a flaring metal waveguide shaped like a horn to direct radio waves in a beam. It is connected to a source through a coaxial transmission line, with the outer conductor of the line connected to the metal body of the horn and the inner conductor protruding into the throat end of the horn. This protruding conductor acts as a monopole antenna, generating waves that radiate outwardly toward the horn's aperture. The horn antenna is used to transition a guided wave into an unbounded wave, with the aperture acting as a distribution of isotropic radiators. This type of antenna is often used in applications requiring high directivity and gain, such as radar and satellite communications. (Source: \"Fundamentals of Applied Electromagnetics 6th,\" page 442)\n",
      "\n",
      "In contrast, a **microstrip antenna**, also known as a patch antenna, consists of a thin dielectric substrate with a conducting material on one side (ground plane) and a patch of conducting material on the other side. The patch acts as a resonator, and the antenna is typically fed by a coaxial cable or a microstrip line. Microstrip antennas are compact and cost-effective, making them popular in wireless applications, but they have limitations such as low bandwidth and efficiency. (Source: \"SYSC 4607 - Wireless Communications 2e,\" page 227)\n",
      "\n",
      "**Differences between Horn and Microstrip Antennas:**\n",
      "\n",
      "1. **Structure and Design:**\n",
      "   - Horn antennas have a flaring metal waveguide structure, while microstrip antennas have a flat patch design on a dielectric substrate.\n",
      "   \n",
      "2. **Applications:**\n",
      "   - Horn antennas are used in applications requiring high directivity and gain, such as radar and satellite communications.\n",
      "   - Microstrip antennas are used in compact and cost-effective wireless applications.\n",
      "\n",
      "3. **Performance:**\n",
      "   - Horn antennas generally offer higher gain and directivity compared to microstrip antennas.\n",
      "   - Microstrip antennas are more compact but have lower bandwidth and efficiency.\n",
      "\n",
      "4. **Feeding Mechanism:**\n",
      "   - Horn antennas are typically fed through a coaxial transmission line.\n",
      "   - Microstrip antennas can be fed by a coaxial cable, microstrip line, or electromagnetic coupling.\n",
      "\n",
      "These differences highlight the suitability of each antenna type for specific applications based on their structural and performance characteristics.\n"
     ]
    }
   ],
   "source": [
    "print(session.continue_chat(\"What is a horn antenna? How does it differ from a microstrip antenna?\"))"
   ]
  },
  {
   "cell_type": "code",
   "execution_count": 4,
   "metadata": {},
   "outputs": [
    {
     "name": "stdout",
     "output_type": "stream",
     "text": [
      "Chat session cleared.\n",
      "None\n"
     ]
    }
   ],
   "source": [
    "print(session.clear_chat())"
   ]
  }
 ],
 "metadata": {
  "kernelspec": {
   "display_name": "venv",
   "language": "python",
   "name": "python3"
  },
  "language_info": {
   "codemirror_mode": {
    "name": "ipython",
    "version": 3
   },
   "file_extension": ".py",
   "mimetype": "text/x-python",
   "name": "python",
   "nbconvert_exporter": "python",
   "pygments_lexer": "ipython3",
   "version": "3.10.11"
  }
 },
 "nbformat": 4,
 "nbformat_minor": 2
}
