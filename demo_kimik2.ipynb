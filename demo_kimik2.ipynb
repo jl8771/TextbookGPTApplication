{
 "cells": [
  {
   "cell_type": "code",
   "execution_count": 1,
   "metadata": {},
   "outputs": [
    {
     "name": "stdout",
     "output_type": "stream",
     "text": [
      "Setting model provider to: kimi\n",
      "Chat session with assistant initialized using model: MoonshotAI Kimi-K2-Instruct-0905\n"
     ]
    }
   ],
   "source": [
    "import warnings\n",
    "from tqdm import TqdmWarning\n",
    "warnings.filterwarnings(\"ignore\", category=TqdmWarning)\n",
    "\n",
    "from chat import ChatSession\n",
    "session = ChatSession(\"kimi\")"
   ]
  },
  {
   "cell_type": "code",
   "execution_count": 2,
   "metadata": {},
   "outputs": [
    {
     "name": "stderr",
     "output_type": "stream",
     "text": [
      "Langfuse was not able to parse the LLM model. The LLM call will be recorded without model name. Please create an issue: https://github.com/langfuse/langfuse/issues/new/choose\n"
     ]
    },
    {
     "name": "stdout",
     "output_type": "stream",
     "text": [
      "Found text with semantic search. Proceeding to reranking...\n",
      "A microstrip antenna (also called a patch antenna) is a type of antenna that consists of a thin metallic patch mounted on one side of a dielectric substrate, with a ground plane on the opposite side. According to *SYSC 4607 - Wireless Communications 2e*, page 227, the patch acts as a resonator whose dimensions must be multiples of the effective dielectric wavelength. The shape and size of the metallic patch, along with the dielectric properties of the substrate, determine the antenna's characteristics.\n",
      "\n",
      "Common patch shapes include rectangular, circular, and triangular. The antenna can be fed by a coaxial cable, microstrip line, or through electromagnetic coupling (as in aperture-coupled patch antennas). These antennas are compact, inexpensive to manufacture, and easily integrated into mobile devices, but they typically have low bandwidth and efficiency.\n"
     ]
    }
   ],
   "source": [
    "print(session.start_chat(\"What is a microstrip antenna?\"))"
   ]
  },
  {
   "cell_type": "code",
   "execution_count": 3,
   "metadata": {},
   "outputs": [
    {
     "name": "stdout",
     "output_type": "stream",
     "text": [
      "Found text with semantic search. Proceeding to reranking...\n",
      "Horn Antenna  \n",
      "A horn antenna is a flared metallic waveguide section that forms a smooth transition from a guided wave inside the waveguide to a free-space wave. It functions as an aperture antenna: an internal probe (monopole) launches waves that propagate toward the open aperture, and the entire aperture becomes a distribution of secondary radiators. The flare provides a gradual impedance match between the waveguide and free space, resulting in higher gain, lower reflection, and more focused beamwidth than a bare waveguide. They are typically several wavelengths across, have high efficiency, and are used in microwave and millimetre-wave systems such as radar, satellite, and calibration applications.\n",
      "\n",
      "Key differences from a microstrip antenna  \n",
      "- **Structure**: Horn = hollow flared waveguide; microstrip = flat conducting patch on dielectric substrate with ground plane  \n",
      "- **Size**: Horn is physically large (several λ); microstrip is compact (λ/2 or λ/4 patch)  \n",
      "- **Bandwidth**: Horn is broadband (up to 50% or more); microstrip is narrowband (a few percent)  \n",
      "- **Efficiency**: Horn is high-efficiency; microstrip is low-efficiency  \n",
      "- **Manufacturing**: Horn is machined metal; microstrip is inexpensive printed-circuit process  \n",
      "- **Radiation**: Horn uses large aperture; microstrip uses resonant patch currents\n",
      "\n",
      "References:  \n",
      "- Fundamentals of Applied Electromagnetics 6e, p. 417-442  \n",
      "- SYSC 4607 - Wireless Communications 2e, p. 227-228\n"
     ]
    }
   ],
   "source": [
    "print(session.continue_chat(\"What is a horn antenna? How does it differ from a microstrip antenna?\"))"
   ]
  },
  {
   "cell_type": "code",
   "execution_count": 4,
   "metadata": {},
   "outputs": [
    {
     "name": "stdout",
     "output_type": "stream",
     "text": [
      "Chat session cleared.\n",
      "None\n"
     ]
    }
   ],
   "source": [
    "print(session.clear_chat())"
   ]
  }
 ],
 "metadata": {
  "kernelspec": {
   "display_name": "venv",
   "language": "python",
   "name": "python3"
  },
  "language_info": {
   "codemirror_mode": {
    "name": "ipython",
    "version": 3
   },
   "file_extension": ".py",
   "mimetype": "text/x-python",
   "name": "python",
   "nbconvert_exporter": "python",
   "pygments_lexer": "ipython3",
   "version": "3.10.11"
  }
 },
 "nbformat": 4,
 "nbformat_minor": 2
}
