{
 "cells": [
  {
   "cell_type": "code",
   "execution_count": 1,
   "metadata": {},
   "outputs": [
    {
     "name": "stdout",
     "output_type": "stream",
     "text": [
      "Setting model provider to: llama\n",
      "Chat session with assistant initialized using model: Meta Llama-4-Maverick-17B-128E-Instruct\n"
     ]
    }
   ],
   "source": [
    "import warnings\n",
    "from tqdm import TqdmWarning\n",
    "warnings.filterwarnings(\"ignore\", category=TqdmWarning)\n",
    "\n",
    "from chat import ChatSession\n",
    "session = ChatSession(\"llama\")"
   ]
  },
  {
   "cell_type": "code",
   "execution_count": 2,
   "metadata": {},
   "outputs": [
    {
     "name": "stderr",
     "output_type": "stream",
     "text": [
      "Langfuse was not able to parse the LLM model. The LLM call will be recorded without model name. Please create an issue: https://github.com/langfuse/langfuse/issues/new/choose\n"
     ]
    },
    {
     "name": "stdout",
     "output_type": "stream",
     "text": [
      "Found text with semantic search. Proceeding to reranking...\n",
      "A microstrip antenna, also known as a patch antenna, consists of a thin dielectric substrate covered on one side by a thin layer of conducting material (ground plane) and on the other side by a patch of conducting material. The properties of the antenna are determined by the shape and dimension of the metallic patch, as well as the dielectric properties of the substrate. The patch is usually fed by a coaxial cable, microstrip line, or electromagnetic coupling. Microstrip antennas have advantages such as being small, cheap to manufacture, and integrable into mobile stations, but they also have limitations like low bandwidth and low efficiency.\n",
      "\n",
      "The information is based on the textbook \"SYSC 4607 - Wireless Communications 2e\" on pages 227-228.\n"
     ]
    }
   ],
   "source": [
    "print(session.start_chat(\"What is a microstrip antenna?\"))"
   ]
  },
  {
   "cell_type": "code",
   "execution_count": 3,
   "metadata": {},
   "outputs": [
    {
     "name": "stdout",
     "output_type": "stream",
     "text": [
      "Found text with semantic search. Proceeding to reranking...\n",
      "A horn antenna is a type of antenna that is used to radiate electromagnetic waves into free space. It is typically a flared structure that is connected to a waveguide or transmission line, and is used to transition the guided wave into a free-space wave.\n",
      "\n",
      "In contrast, a microstrip antenna is a type of planar antenna that consists of a thin dielectric substrate covered by a conducting patch on one side and a ground plane on the other. Microstrip antennas are typically smaller and more compact than horn antennas, and are often used in applications where space is limited.\n",
      "\n",
      "The main differences between horn antennas and microstrip antennas are:\n",
      "\n",
      "* Size: Horn antennas are generally larger than microstrip antennas.\n",
      "* Radiation pattern: Horn antennas have a more directional radiation pattern than microstrip antennas.\n",
      "* Frequency range: Horn antennas can operate over a wider frequency range than microstrip antennas.\n",
      "\n",
      "The information is based on the textbooks \"Fundamentals of Applied Electromagnetics 6th\" on pages 442 and 417, and \"ELEC 4502 - Microwave Engineering 4e\" on page 678.\n"
     ]
    }
   ],
   "source": [
    "print(session.continue_chat(\"What is a horn antenna? How does it differ from a microstrip antenna?\"))"
   ]
  },
  {
   "cell_type": "code",
   "execution_count": 4,
   "metadata": {},
   "outputs": [
    {
     "name": "stdout",
     "output_type": "stream",
     "text": [
      "Chat session cleared.\n",
      "None\n"
     ]
    }
   ],
   "source": [
    "print(session.clear_chat())"
   ]
  }
 ],
 "metadata": {
  "kernelspec": {
   "display_name": "venv",
   "language": "python",
   "name": "python3"
  },
  "language_info": {
   "codemirror_mode": {
    "name": "ipython",
    "version": 3
   },
   "file_extension": ".py",
   "mimetype": "text/x-python",
   "name": "python",
   "nbconvert_exporter": "python",
   "pygments_lexer": "ipython3",
   "version": "3.10.11"
  }
 },
 "nbformat": 4,
 "nbformat_minor": 2
}
