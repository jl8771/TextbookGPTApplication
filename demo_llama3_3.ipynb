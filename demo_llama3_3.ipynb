{
 "cells": [
  {
   "cell_type": "code",
   "execution_count": 1,
   "metadata": {},
   "outputs": [
    {
     "name": "stdout",
     "output_type": "stream",
     "text": [
      "Setting model provider to: llama\n",
      "Chat session with assistant initialized using model: Meta Llama-3.3-70B-Instruct\n"
     ]
    }
   ],
   "source": [
    "import warnings\n",
    "from tqdm import TqdmWarning\n",
    "warnings.filterwarnings(\"ignore\", category=TqdmWarning)\n",
    "\n",
    "from chat import ChatSession\n",
    "session = ChatSession(\"llama\")"
   ]
  },
  {
   "cell_type": "code",
   "execution_count": 2,
   "metadata": {},
   "outputs": [
    {
     "name": "stderr",
     "output_type": "stream",
     "text": [
      "Langfuse was not able to parse the LLM model. The LLM call will be recorded without model name. Please create an issue: https://github.com/langfuse/langfuse/issues/new/choose\n"
     ]
    },
    {
     "name": "stdout",
     "output_type": "stream",
     "text": [
      "Found text with semantic search. Proceeding to reranking...\n",
      "A microstrip antenna, also known as a patch antenna, consists of a thin dielectric substrate covered on one side by a thin layer of conducting material (ground plane) and a patch of conducting material on the other side. The properties of a microstrip antenna are determined by the shape and dimension of the metallic patch, as well as the dielectric properties of the used substrate. The patch is usually fed either by a coaxial cable or a microstrip line, and the size and efficiency of the microstrip antenna are determined by the parameters of the dielectric substrate. A large dielectric constant reduces the size of the antenna. Microstrip antennas are widely used in present-day electronics, including microwave integrated circuits, filters, couplers, resonators, and antennas. \n",
      "\n",
      "Information retrieved from \"SYSC 4607 - Wireless Communications 2e.pdf\" (page 227), and \"Elements of Electromagnetics 6e.pdf\" (page 607) and \"Elements of Electromagnetics 3rd.pdf\" (page 528).\n"
     ]
    }
   ],
   "source": [
    "print(session.start_chat(\"What is a microstrip antenna?\"))"
   ]
  },
  {
   "cell_type": "code",
   "execution_count": 3,
   "metadata": {},
   "outputs": [
    {
     "name": "stdout",
     "output_type": "stream",
     "text": [
      "Found text with semantic search. Proceeding to reranking...\n",
      "A horn antenna is a type of antenna that consists of a flared horn-shaped structure, which is used to direct and focus electromagnetic waves. It is an example of an aperture field antenna, where the electric and magnetic fields across the horn's aperture serve as the sources of the radiated fields. The aperture fields are induced by time-varying currents on the surfaces of the horn's walls. The horn antenna is designed to convert a guided wave into a free-space wave, and it is commonly used in microwave and millimeter-wave applications.\n",
      "\n",
      "In comparison, a microstrip antenna is a type of antenna that consists of a thin dielectric substrate covered on one side by a thin layer of conducting material (ground plane) and a patch of conducting material on the other side. The properties of a microstrip antenna are determined by the shape and dimension of the metallic patch, as well as the dielectric properties of the used substrate. Microstrip antennas are widely used in present-day electronics, including microwave integrated circuits, filters, couplers, resonators, and antennas.\n",
      "\n",
      "The main difference between a horn antenna and a microstrip antenna is the way they radiate electromagnetic waves. A horn antenna uses the aperture fields to radiate waves, while a microstrip antenna uses the currents flowing in the conducting patch to radiate waves. Additionally, horn antennas are typically larger and more directional than microstrip antennas, and they are often used in applications where high gain and directivity are required.\n",
      "\n",
      "Information retrieved from \"ELEC 4502 - Microwave Engineering 4e.pdf\" (page 678), and \"Fundamentals of Applied Electromagnetics 6th.pdf\" (pages 418 and 442).\n"
     ]
    }
   ],
   "source": [
    "print(session.continue_chat(\"What is a horn antenna? How does it differ from a microstrip antenna?\"))"
   ]
  },
  {
   "cell_type": "code",
   "execution_count": 4,
   "metadata": {},
   "outputs": [
    {
     "name": "stdout",
     "output_type": "stream",
     "text": [
      "Chat session cleared.\n",
      "None\n"
     ]
    }
   ],
   "source": [
    "print(session.clear_chat())"
   ]
  }
 ],
 "metadata": {
  "kernelspec": {
   "display_name": "venv",
   "language": "python",
   "name": "python3"
  },
  "language_info": {
   "codemirror_mode": {
    "name": "ipython",
    "version": 3
   },
   "file_extension": ".py",
   "mimetype": "text/x-python",
   "name": "python",
   "nbconvert_exporter": "python",
   "pygments_lexer": "ipython3",
   "version": "3.10.11"
  }
 },
 "nbformat": 4,
 "nbformat_minor": 2
}
