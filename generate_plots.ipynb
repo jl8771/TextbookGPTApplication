{
 "cells": [
  {
   "cell_type": "code",
   "execution_count": null,
   "metadata": {},
   "outputs": [],
   "source": [
    "import pandas as pd\n",
    "import seaborn as sns\n",
    "import matplotlib.pyplot as plt\n",
    "import numpy as np\n",
    "import nltk"
   ]
  },
  {
   "cell_type": "code",
   "execution_count": null,
   "metadata": {},
   "outputs": [],
   "source": [
    "df = pd.read_json('EngTextbooksPDF.json', lines=True)\n",
    "textbooks_to_exclude = [\"ELEC 4702 - Optoelectronics and Photonics 2e.pdf\",\n",
    "                        \"Elements of Electromagnetics 6e Solutions.pdf\",\n",
    "                        \"MATH 5104 - Intro to Lie Algebra and Representation Theory 3e (Humphreys).pdf\",\n",
    "                        \"Numerical Methods 6th.pdf\",\n",
    "                        \"PHYS 4807 - Statistical Data Analysis.pdf\",\n",
    "                        \"SYSC 4602 - Communication Networks - Fundamental Concepts and Key Architectures.pdf\",\n",
    "                        \"Textbook 1.pdf\"]\n",
    "df = df[~df['document'].isin(textbooks_to_exclude)]\n",
    "df['document'].nunique()\n",
    "df.head()"
   ]
  },
  {
   "cell_type": "markdown",
   "metadata": {},
   "source": [
    "Page Count"
   ]
  },
  {
   "cell_type": "code",
   "execution_count": null,
   "metadata": {},
   "outputs": [],
   "source": [
    "df.groupby('document')['page'].nunique().hist(bins=20, grid=False)"
   ]
  },
  {
   "cell_type": "code",
   "execution_count": null,
   "metadata": {},
   "outputs": [],
   "source": [
    "df.groupby('document')['page'].nunique().boxplot()"
   ]
  },
  {
   "cell_type": "markdown",
   "metadata": {},
   "source": [
    "Character Count"
   ]
  },
  {
   "cell_type": "code",
   "execution_count": null,
   "metadata": {},
   "outputs": [],
   "source": [
    "char_count_df = df.copy()\n",
    "char_count_df['char_count'] = char_count_df['text'].str.len()\n",
    "char_count_df = char_count_df.groupby('document')['char_count'].mean().reset_index(name='mean_char_count')"
   ]
  },
  {
   "cell_type": "code",
   "execution_count": null,
   "metadata": {},
   "outputs": [],
   "source": [
    "char_count_df['mean_char_count'].hist(bins=20, grid=False)"
   ]
  },
  {
   "cell_type": "code",
   "execution_count": null,
   "metadata": {},
   "outputs": [],
   "source": [
    "char_count_df['mean_char_count'].boxplot()"
   ]
  },
  {
   "cell_type": "markdown",
   "metadata": {},
   "source": [
    "Word Count"
   ]
  },
  {
   "cell_type": "code",
   "execution_count": null,
   "metadata": {},
   "outputs": [],
   "source": [
    "word_count_df = df.copy()\n",
    "word_count_df['tokens'] = word_count_df['text'].apply(lambda x: nltk.word_tokenize(x))\n",
    "word_count_df['token_count'] = word_count_df['tokens'].apply(len)\n",
    "word_count_df = word_count_df.groupby('document')['token_count'].mean().reset_index(name='mean_word_count')"
   ]
  },
  {
   "cell_type": "code",
   "execution_count": null,
   "metadata": {},
   "outputs": [],
   "source": [
    "word_count_df['mean_word_count'].hist(bins=20, grid=False)"
   ]
  },
  {
   "cell_type": "code",
   "execution_count": null,
   "metadata": {},
   "outputs": [],
   "source": [
    "word_count_df['mean_word_count'].boxplot()"
   ]
  }
 ],
 "metadata": {
  "kernelspec": {
   "display_name": "venv",
   "language": "python",
   "name": "python3"
  },
  "language_info": {
   "name": "python",
   "version": "3.10.11"
  }
 },
 "nbformat": 4,
 "nbformat_minor": 2
}
